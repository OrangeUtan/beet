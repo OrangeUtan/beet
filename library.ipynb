{
 "cells": [
  {
   "cell_type": "markdown",
   "metadata": {},
   "source": [
    "# Library documentation\n",
    "\n",
    "The `beet` library is the foundation that supports the entire project. It provides the necessary abstractions for working with Minecraft data packs and resource packs at a higher level than through filesystem operations. This enables code that uses the `beet` library to easily introspect and make modifications to data packs and resource packs.\n",
    "\n",
    "This page is still a work-in-progress so for the time being we've tried to compile a bunch of useful code snippets. You can read everything from top to bottom but it's primarily supposed to serve as a quick reference that you can easily search through.\n",
    "\n",
    "---\n",
    "\n",
    "## Data packs and resource packs\n",
    "\n",
    "TODO\n",
    "\n",
    "## Creating files\n",
    "\n",
    "Manipulating individual files should be pretty uncommon since `beet` makes it easy to perform operations at the pack level, but it's still probably a good idea to be at least a little bit familiar with the primitives that the rest of the library builds upon.\n",
    "\n",
    "You can create a new file by providing the file content to the constructor or by specifying a source path from which the file should be loaded."
   ]
  },
  {
   "cell_type": "code",
   "execution_count": 1,
   "metadata": {
    "execution": {
     "iopub.execute_input": "2021-02-24T18:00:59.728406Z",
     "iopub.status.busy": "2021-02-24T18:00:59.727930Z",
     "iopub.status.idle": "2021-02-24T18:00:59.929365Z",
     "shell.execute_reply": "2021-02-24T18:00:59.928974Z"
    }
   },
   "outputs": [
    {
     "data": {
      "text/plain": [
       "TextFile(content='Hello, world!', source_path=None)"
      ]
     },
     "execution_count": 1,
     "metadata": {},
     "output_type": "execute_result"
    }
   ],
   "source": [
    "from beet import TextFile\n",
    "\n",
    "text_file = TextFile(\"Hello, world!\")\n",
    "text_file"
   ]
  },
  {
   "cell_type": "code",
   "execution_count": 2,
   "metadata": {
    "execution": {
     "iopub.execute_input": "2021-02-24T18:00:59.932055Z",
     "iopub.status.busy": "2021-02-24T18:00:59.931770Z",
     "iopub.status.idle": "2021-02-24T18:00:59.934800Z",
     "shell.execute_reply": "2021-02-24T18:00:59.934487Z"
    }
   },
   "outputs": [
    {
     "data": {
      "text/plain": [
       "'Hello, world!'"
      ]
     },
     "execution_count": 1,
     "metadata": {},
     "output_type": "execute_result"
    }
   ],
   "source": [
    "text_file.text"
   ]
  },
  {
   "cell_type": "markdown",
   "metadata": {},
   "source": [
    "The dump method lets you write the file to the filesystem. You can then load the file back by using the load classmethod."
   ]
  },
  {
   "cell_type": "code",
   "execution_count": 3,
   "metadata": {
    "execution": {
     "iopub.execute_input": "2021-02-24T18:00:59.937707Z",
     "iopub.status.busy": "2021-02-24T18:00:59.937207Z",
     "iopub.status.idle": "2021-02-24T18:00:59.941011Z",
     "shell.execute_reply": "2021-02-24T18:00:59.940776Z"
    }
   },
   "outputs": [
    {
     "data": {
      "text/plain": [
       "TextFile(content=None, source_path=PosixPath('library_files/hello.txt'))"
      ]
     },
     "execution_count": 1,
     "metadata": {},
     "output_type": "execute_result"
    }
   ],
   "source": [
    "from pathlib import Path\n",
    "\n",
    "files = Path(\"library_files\")\n",
    "files.mkdir(exist_ok=True)\n",
    "\n",
    "text_file.dump(files, \"hello.txt\")\n",
    "\n",
    "TextFile.load(files, \"hello.txt\")"
   ]
  },
  {
   "cell_type": "markdown",
   "metadata": {},
   "source": [
    "Here you'll notice the first notable difference with the built-in file handles. The file instance doesn't load the file unless it has to. You can see that the content is set to None and that instead of loading the file, `beet` simply stored a reference to the original source path.\n",
    "\n",
    "The file will only be loaded when trying to access the content of the file. This allows `beet` to let you access all the resources in data packs and resource packs without ever loading everything at once."
   ]
  },
  {
   "cell_type": "code",
   "execution_count": 4,
   "metadata": {
    "execution": {
     "iopub.execute_input": "2021-02-24T18:00:59.944272Z",
     "iopub.status.busy": "2021-02-24T18:00:59.943872Z",
     "iopub.status.idle": "2021-02-24T18:00:59.947685Z",
     "shell.execute_reply": "2021-02-24T18:00:59.947353Z"
    }
   },
   "outputs": [
    {
     "name": "stdout",
     "output_type": "stream",
     "text": [
      "Hello, world!\n"
     ]
    },
    {
     "data": {
      "text/plain": [
       "TextFile(content='Hello, world!', source_path=None)"
      ]
     },
     "execution_count": 1,
     "metadata": {},
     "output_type": "execute_result"
    }
   ],
   "source": [
    "text_file = TextFile.load(files, \"hello.txt\")\n",
    "print(text_file.text)  # This is where beet actually loads the file\n",
    "text_file"
   ]
  },
  {
   "cell_type": "markdown",
   "metadata": {},
   "source": [
    "Notice that after accessing the text property, the representation of the file changes and shows that the content of the file is loaded and that the reference to the original file was discarded.\n",
    "\n",
    "## Storing files in zipfiles\n",
    "\n",
    "The dump and load methods can be used with zipfiles. Zipfiles should be in write mode when writing and in read mode (the default mode) when reading."
   ]
  },
  {
   "cell_type": "code",
   "execution_count": 5,
   "metadata": {
    "execution": {
     "iopub.execute_input": "2021-02-24T18:00:59.950448Z",
     "iopub.status.busy": "2021-02-24T18:00:59.949950Z",
     "iopub.status.idle": "2021-02-24T18:00:59.954700Z",
     "shell.execute_reply": "2021-02-24T18:00:59.954448Z"
    }
   },
   "outputs": [
    {
     "data": {
      "text/plain": [
       "TextFile(content='Hello, world!', source_path=None)"
      ]
     },
     "execution_count": 1,
     "metadata": {},
     "output_type": "execute_result"
    }
   ],
   "source": [
    "from zipfile import ZipFile\n",
    "\n",
    "with ZipFile(files / \"test1.zip\", mode=\"w\") as zipfile:\n",
    "    text_file.dump(zipfile, \"hello.txt\")\n",
    "\n",
    "TextFile.load(ZipFile(files / \"test1.zip\"), \"hello.txt\")"
   ]
  },
  {
   "cell_type": "markdown",
   "metadata": {},
   "source": [
    "Notice that the content of the file is loaded up-front. There's no reliable way to keep a valid reference to a zipfile entry, so `beet` doesn't implement lazy-loading for zipfiles. The good news is that with zipfiles, the entire content of the zipfile is very likely already in memory, so the performance impact should be negligible."
   ]
  },
  {
   "cell_type": "markdown",
   "metadata": {},
   "source": [
    "## Json files\n",
    "\n",
    "The library provides rich content files that are automatically deserialized as python objects."
   ]
  },
  {
   "cell_type": "code",
   "execution_count": 6,
   "metadata": {
    "execution": {
     "iopub.execute_input": "2021-02-24T18:00:59.957106Z",
     "iopub.status.busy": "2021-02-24T18:00:59.956808Z",
     "iopub.status.idle": "2021-02-24T18:00:59.959781Z",
     "shell.execute_reply": "2021-02-24T18:00:59.959476Z"
    }
   },
   "outputs": [
    {
     "data": {
      "text/plain": [
       "JsonFile(content={'hello': 'world'}, source_path=None)"
      ]
     },
     "execution_count": 1,
     "metadata": {},
     "output_type": "execute_result"
    }
   ],
   "source": [
    "from beet import JsonFile\n",
    "\n",
    "json_file = JsonFile({\"hello\": \"world\"})\n",
    "json_file"
   ]
  },
  {
   "cell_type": "code",
   "execution_count": 7,
   "metadata": {
    "execution": {
     "iopub.execute_input": "2021-02-24T18:00:59.962073Z",
     "iopub.status.busy": "2021-02-24T18:00:59.961747Z",
     "iopub.status.idle": "2021-02-24T18:00:59.964489Z",
     "shell.execute_reply": "2021-02-24T18:00:59.964720Z"
    }
   },
   "outputs": [
    {
     "data": {
      "text/plain": [
       "{'hello': 'world'}"
      ]
     },
     "execution_count": 1,
     "metadata": {},
     "output_type": "execute_result"
    }
   ],
   "source": [
    "json_file.data"
   ]
  },
  {
   "cell_type": "markdown",
   "metadata": {},
   "source": [
    "You can also access and make modifications to the serialized version of the file at any time."
   ]
  },
  {
   "cell_type": "code",
   "execution_count": 8,
   "metadata": {
    "execution": {
     "iopub.execute_input": "2021-02-24T18:00:59.966947Z",
     "iopub.status.busy": "2021-02-24T18:00:59.966645Z",
     "iopub.status.idle": "2021-02-24T18:00:59.969564Z",
     "shell.execute_reply": "2021-02-24T18:00:59.969332Z"
    }
   },
   "outputs": [
    {
     "data": {
      "text/plain": [
       "'{\\n  \"hello\": \"world\"\\n}\\n'"
      ]
     },
     "execution_count": 1,
     "metadata": {},
     "output_type": "execute_result"
    }
   ],
   "source": [
    "json_file.text"
   ]
  },
  {
   "cell_type": "code",
   "execution_count": 9,
   "metadata": {
    "execution": {
     "iopub.execute_input": "2021-02-24T18:00:59.971771Z",
     "iopub.status.busy": "2021-02-24T18:00:59.971478Z",
     "iopub.status.idle": "2021-02-24T18:00:59.974418Z",
     "shell.execute_reply": "2021-02-24T18:00:59.974090Z"
    }
   },
   "outputs": [
    {
     "data": {
      "text/plain": [
       "JsonFile(content='{\\n  \"hello\": \"world\"\\n}\\n', source_path=None)"
      ]
     },
     "execution_count": 1,
     "metadata": {},
     "output_type": "execute_result"
    }
   ],
   "source": [
    "json_file"
   ]
  },
  {
   "cell_type": "markdown",
   "metadata": {},
   "source": [
    "## Lazy deserialization\n",
    "\n",
    "You've probably noticed that the content is stored depending on how you're using the file. The content will be stored as text if you're accessing the text property. If you're accessing the data property `beet` will deserialize the content on-the-fly and update the file's internal state."
   ]
  },
  {
   "cell_type": "code",
   "execution_count": 10,
   "metadata": {
    "execution": {
     "iopub.execute_input": "2021-02-24T18:00:59.976832Z",
     "iopub.status.busy": "2021-02-24T18:00:59.976537Z",
     "iopub.status.idle": "2021-02-24T18:00:59.979570Z",
     "shell.execute_reply": "2021-02-24T18:00:59.979799Z"
    }
   },
   "outputs": [
    {
     "name": "stdout",
     "output_type": "stream",
     "text": [
      "{\n",
      "  \"hello\": \"world\",\n",
      "  \"number\": 42\n",
      "}\n",
      "\n"
     ]
    },
    {
     "data": {
      "text/plain": [
       "JsonFile(content='{\\n  \"hello\": \"world\",\\n  \"number\": 42\\n}\\n', source_path=None)"
      ]
     },
     "execution_count": 1,
     "metadata": {},
     "output_type": "execute_result"
    }
   ],
   "source": [
    "json_file.data[\"number\"] = 42\n",
    "print(json_file.text)\n",
    "json_file"
   ]
  },
  {
   "cell_type": "code",
   "execution_count": 11,
   "metadata": {
    "execution": {
     "iopub.execute_input": "2021-02-24T18:00:59.982006Z",
     "iopub.status.busy": "2021-02-24T18:00:59.981702Z",
     "iopub.status.idle": "2021-02-24T18:00:59.984932Z",
     "shell.execute_reply": "2021-02-24T18:00:59.984685Z"
    }
   },
   "outputs": [
    {
     "data": {
      "text/plain": [
       "JsonFile(content=None, source_path=PosixPath('library_files/hello.json'))"
      ]
     },
     "execution_count": 1,
     "metadata": {},
     "output_type": "execute_result"
    }
   ],
   "source": [
    "json_file.dump(files, \"hello.json\")\n",
    "\n",
    "JsonFile.load(files, \"hello.json\")"
   ]
  },
  {
   "cell_type": "code",
   "execution_count": 12,
   "metadata": {
    "execution": {
     "iopub.execute_input": "2021-02-24T18:00:59.987185Z",
     "iopub.status.busy": "2021-02-24T18:00:59.986876Z",
     "iopub.status.idle": "2021-02-24T18:00:59.989741Z",
     "shell.execute_reply": "2021-02-24T18:00:59.989990Z"
    }
   },
   "outputs": [
    {
     "data": {
      "text/plain": [
       "42"
      ]
     },
     "execution_count": 1,
     "metadata": {},
     "output_type": "execute_result"
    }
   ],
   "source": [
    "JsonFile.load(files, \"hello.json\").data[\"number\"]"
   ]
  },
  {
   "cell_type": "markdown",
   "metadata": {},
   "source": [
    "## Binary files\n",
    "\n",
    "Each file belongs to one of two distinct hierarchies: text files and binary files. The difference is that text files store their serialized content as strings while binary files store their serialized content as bytes. On binary files, you can use the blob property to access the seriliazed content of the file."
   ]
  },
  {
   "cell_type": "code",
   "execution_count": 13,
   "metadata": {
    "execution": {
     "iopub.execute_input": "2021-02-24T18:00:59.992626Z",
     "iopub.status.busy": "2021-02-24T18:00:59.992335Z",
     "iopub.status.idle": "2021-02-24T18:00:59.995216Z",
     "shell.execute_reply": "2021-02-24T18:00:59.994952Z"
    }
   },
   "outputs": [
    {
     "data": {
      "text/plain": [
       "b'\\x01\\x02\\x03'"
      ]
     },
     "execution_count": 1,
     "metadata": {},
     "output_type": "execute_result"
    }
   ],
   "source": [
    "from beet import BinaryFile\n",
    "\n",
    "binary_file = BinaryFile(b\"\\x01\\x02\\x03\")\n",
    "binary_file.blob"
   ]
  },
  {
   "cell_type": "code",
   "execution_count": 14,
   "metadata": {
    "execution": {
     "iopub.execute_input": "2021-02-24T18:00:59.997388Z",
     "iopub.status.busy": "2021-02-24T18:00:59.997041Z",
     "iopub.status.idle": "2021-02-24T18:01:00.000325Z",
     "shell.execute_reply": "2021-02-24T18:01:00.000558Z"
    }
   },
   "outputs": [
    {
     "data": {
      "text/plain": [
       "BinaryFile(content=None, source_path=PosixPath('library_files/hello.bin'))"
      ]
     },
     "execution_count": 1,
     "metadata": {},
     "output_type": "execute_result"
    }
   ],
   "source": [
    "binary_file.dump(files, \"hello.bin\")\n",
    "\n",
    "BinaryFile.load(files, \"hello.bin\")"
   ]
  },
  {
   "cell_type": "code",
   "execution_count": 15,
   "metadata": {
    "execution": {
     "iopub.execute_input": "2021-02-24T18:01:00.002691Z",
     "iopub.status.busy": "2021-02-24T18:01:00.002394Z",
     "iopub.status.idle": "2021-02-24T18:01:00.005513Z",
     "shell.execute_reply": "2021-02-24T18:01:00.005266Z"
    }
   },
   "outputs": [
    {
     "data": {
      "text/plain": [
       "b'\\x01\\x02\\x03'"
      ]
     },
     "execution_count": 1,
     "metadata": {},
     "output_type": "execute_result"
    }
   ],
   "source": [
    "BinaryFile.load(files, \"hello.bin\").blob"
   ]
  },
  {
   "cell_type": "markdown",
   "metadata": {},
   "source": [
    "## Image files\n",
    "\n",
    "Png files are binary files that get deserialized to PIL images."
   ]
  },
  {
   "cell_type": "code",
   "execution_count": 16,
   "metadata": {
    "execution": {
     "iopub.execute_input": "2021-02-24T18:01:00.008981Z",
     "iopub.status.busy": "2021-02-24T18:01:00.008056Z",
     "iopub.status.idle": "2021-02-24T18:01:00.017319Z",
     "shell.execute_reply": "2021-02-24T18:01:00.017555Z"
    }
   },
   "outputs": [
    {
     "data": {
      "image/png": "[encoded data removed]",
      "text/plain": [
       "<PIL.Image.Image image mode=RGB size=64x64 at 0x7F72553C0190>"
      ]
     },
     "execution_count": 1,
     "metadata": {},
     "output_type": "execute_result"
    }
   ],
   "source": [
    "from beet import PngFile\n",
    "from PIL import Image\n",
    "\n",
    "png_file = PngFile(Image.new(\"RGB\", (64, 64), color=\"black\"))\n",
    "png_file.image"
   ]
  },
  {
   "cell_type": "code",
   "execution_count": 17,
   "metadata": {
    "execution": {
     "iopub.execute_input": "2021-02-24T18:01:00.020323Z",
     "iopub.status.busy": "2021-02-24T18:01:00.019850Z",
     "iopub.status.idle": "2021-02-24T18:01:00.023759Z",
     "shell.execute_reply": "2021-02-24T18:01:00.023993Z"
    }
   },
   "outputs": [
    {
     "data": {
      "text/plain": [
       "PngFile(content=None, source_path=PosixPath('library_files/black.png'))"
      ]
     },
     "execution_count": 1,
     "metadata": {},
     "output_type": "execute_result"
    }
   ],
   "source": [
    "png_file.dump(files, \"black.png\")\n",
    "\n",
    "PngFile.load(files, \"black.png\")"
   ]
  },
  {
   "cell_type": "code",
   "execution_count": 18,
   "metadata": {
    "execution": {
     "iopub.execute_input": "2021-02-24T18:01:00.026486Z",
     "iopub.status.busy": "2021-02-24T18:01:00.026185Z",
     "iopub.status.idle": "2021-02-24T18:01:00.029277Z",
     "shell.execute_reply": "2021-02-24T18:01:00.029506Z"
    }
   },
   "outputs": [
    {
     "data": {
      "text/plain": [
       "b'\\x89PNG\\r\\n\\x1a\\n\\x00\\x00\\x00\\rIHDR\\x00\\x00\\x00@\\x00\\x00\\x00@\\x08\\x02\\x00\\x00\\x00%\\x0b\\xe6\\x89\\x00\\x00\\x00\"IDATx\\x9c\\xed\\xc1\\x01\\r\\x00\\x00\\x00\\xc2\\xa0\\xf7Om\\x0f\\x07\\x14\\x00\\x00\\x00\\x00\\x00\\x00\\x00\\x00\\x00\\x00\\x00\\xf0n0@\\x00\\x01\\x8b\\x00\\xa8\\xf7\\x00\\x00\\x00\\x00IEND\\xaeB`\\x82'"
      ]
     },
     "execution_count": 1,
     "metadata": {},
     "output_type": "execute_result"
    }
   ],
   "source": [
    "PngFile.load(files, \"black.png\").blob"
   ]
  },
  {
   "cell_type": "code",
   "execution_count": 19,
   "metadata": {
    "execution": {
     "iopub.execute_input": "2021-02-24T18:01:00.032018Z",
     "iopub.status.busy": "2021-02-24T18:01:00.031722Z",
     "iopub.status.idle": "2021-02-24T18:01:00.034873Z",
     "shell.execute_reply": "2021-02-24T18:01:00.034628Z"
    }
   },
   "outputs": [
    {
     "data": {
      "image/png": "[encoded data removed]",
      "text/plain": [
       "<PIL.PngImagePlugin.PngImageFile image mode=RGB size=64x64 at 0x7F72553B2430>"
      ]
     },
     "execution_count": 1,
     "metadata": {},
     "output_type": "execute_result"
    }
   ],
   "source": [
    "PngFile.load(files, \"black.png\").image"
   ]
  },
  {
   "cell_type": "markdown",
   "metadata": {},
   "source": [
    "You can use PIL utilities to resize images, make modifications, apply filters..."
   ]
  },
  {
   "cell_type": "code",
   "execution_count": 20,
   "metadata": {
    "execution": {
     "iopub.execute_input": "2021-02-24T18:01:00.037506Z",
     "iopub.status.busy": "2021-02-24T18:01:00.037046Z",
     "iopub.status.idle": "2021-02-24T18:01:00.044332Z",
     "shell.execute_reply": "2021-02-24T18:01:00.044076Z"
    }
   },
   "outputs": [
    {
     "data": {
      "image/png": "[encoded data removed]",
      "text/plain": [
       "<PIL.PngImagePlugin.PngImageFile image mode=RGB size=64x64 at 0x7F7255331370>"
      ]
     },
     "execution_count": 1,
     "metadata": {},
     "output_type": "execute_result"
    }
   ],
   "source": [
    "from PIL.ImageDraw import Draw\n",
    "\n",
    "d = Draw(png_file.image)\n",
    "d.text((16, 16), \"hello\", fill=\"white\")\n",
    "\n",
    "png_file.image"
   ]
  },
  {
   "cell_type": "code",
   "execution_count": 21,
   "metadata": {
    "execution": {
     "iopub.execute_input": "2021-02-24T18:01:00.046331Z",
     "iopub.status.busy": "2021-02-24T18:01:00.046019Z",
     "iopub.status.idle": "2021-02-24T18:01:00.048863Z",
     "shell.execute_reply": "2021-02-24T18:01:00.049124Z"
    }
   },
   "outputs": [
    {
     "data": {
      "text/plain": [
       "b'\\x89PNG\\r\\n\\x1a\\n\\x00\\x00\\x00\\rIHDR\\x00\\x00\\x00@\\x00\\x00\\x00@\\x08\\x02\\x00\\x00\\x00%\\x0b\\xe6\\x89\\x00\\x00\\x00\\x85IDATx\\x9c\\xed\\xd2A\\x0e\\x83 \\x10\\x05P\\xa6\\xe9\\xfd\\xafL\\x175\\x84\\x80\\xd5\\x804.|o\\x89|\\x19\\x98I\\t\\x00\\x00\\x80{\\xc4h \\xe7\\x9cR\\x8a8\\n~\\xf7l\\x07D\\xec\\xae\\xac\\xf2Z\\xf8\\xaf\"\"\\x9a*\\xfb\\x95U\\xdes\\xb1\\xa6\\x0f\\xe5\\x81\\x87\\xaa\\x9cK5&;P\\x0fF}\\x99zT\\x8e\\xcd\\xa5z\\xcbF\\xe8J\\x11WL\\x8eP\\xefO#~~\\xeeh\\xa0\\xb4\\xfe\\xd7\\x0c\\x94O\\'\\x07W\\xdb\\xee\\xba<\\x00\\x00\\x00\\x00\\x00\\x00\\xc0\\x03}\\x00\\xfb\\xc03\\x17\\xa6\\xd1\\x81q\\x00\\x00\\x00\\x00IEND\\xaeB`\\x82'"
      ]
     },
     "execution_count": 1,
     "metadata": {},
     "output_type": "execute_result"
    }
   ],
   "source": [
    "png_file.blob"
   ]
  }
 ],
 "metadata": {
  "kernelspec": {
   "display_name": "Python 3",
   "language": "python",
   "name": "python3"
  },
  "language_info": {
   "codemirror_mode": {
    "name": "ipython",
    "version": 3
   },
   "file_extension": ".py",
   "mimetype": "text/x-python",
   "name": "python",
   "nbconvert_exporter": "python",
   "pygments_lexer": "ipython3",
   "version": "3.8.5"
  }
 },
 "nbformat": 4,
 "nbformat_minor": 2
}
